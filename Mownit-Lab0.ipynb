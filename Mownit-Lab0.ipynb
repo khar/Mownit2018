{
 "cells": [
  {
   "cell_type": "markdown",
   "metadata": {},
   "source": [
    "# MOwNiT \n",
    "## Laboratorium - wstęp do Julia\n",
    "\n"
   ]
  },
  {
   "cell_type": "markdown",
   "metadata": {},
   "source": [
    "### Instalacja\n",
    "\n",
    "Aktualna wersja: Julia 1.3.1 https://julialang.org/\n",
    "\n",
    "Instalacja na własnym komputerze: https://julialang.org/downloads/\n"
   ]
  },
  {
   "cell_type": "markdown",
   "metadata": {},
   "source": [
    "### Uruchomienie\n",
    "\n",
    "Uruchamiamy z linii poleceń:\n",
    "```\n",
    "julia\n",
    "```"
   ]
  },
  {
   "cell_type": "markdown",
   "metadata": {},
   "source": [
    "###  Instalacja pakietu IJulia\n",
    "\n",
    "W interperterze Julii wpisujemy polecenia:\n",
    "\n",
    "```\n",
    "using Pkg\n",
    "Pkg.add(\"IJulia\")\n",
    "```"
   ]
  },
  {
   "cell_type": "markdown",
   "metadata": {},
   "source": [
    "### Uruchomienie Notatnika\n",
    "\n",
    "Polecenia:\n",
    "\n",
    "```\n",
    "using IJulia\n",
    "notebook()\n",
    "```\n",
    "\n",
    "\n",
    "W przeglądarce urucomi sie nowa zakładka."
   ]
  }
 ],
 "metadata": {
  "kernelspec": {
   "display_name": "Julia 1.2.0",
   "language": "julia",
   "name": "julia-1.2"
  },
  "language_info": {
   "file_extension": ".jl",
   "mimetype": "application/julia",
   "name": "julia",
   "version": "1.2.0"
  }
 },
 "nbformat": 4,
 "nbformat_minor": 2
}
