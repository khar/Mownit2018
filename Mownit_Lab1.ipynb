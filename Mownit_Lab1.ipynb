{
 "cells": [
  {
   "cell_type": "markdown",
   "metadata": {},
   "source": [
    "# MOwNiT \n",
    "## Laboratorium 1\n",
    "### Arytmetyka komputerowa\n",
    "\n"
   ]
  },
  {
   "cell_type": "markdown",
   "metadata": {},
   "source": [
    "IEEE-754 Analysis http://babbage.cs.qc.cuny.edu/IEEE-754/"
   ]
  },
  {
   "cell_type": "code",
   "execution_count": 1,
   "metadata": {},
   "outputs": [
    {
     "data": {
      "text/plain": [
       "\"00111111100000000000000000000000\""
      ]
     },
     "execution_count": 1,
     "metadata": {},
     "output_type": "execute_result"
    }
   ],
   "source": [
    "bitstring(Float32(1.0))"
   ]
  },
  {
   "cell_type": "code",
   "execution_count": 2,
   "metadata": {},
   "outputs": [
    {
     "data": {
      "text/plain": [
       "\"0011111111110000000000000000000000000000000000000000000000000000\""
      ]
     },
     "execution_count": 2,
     "metadata": {},
     "output_type": "execute_result"
    }
   ],
   "source": [
    "bitstring(Float64(1.0))"
   ]
  },
  {
   "cell_type": "code",
   "execution_count": 3,
   "metadata": {},
   "outputs": [
    {
     "data": {
      "text/plain": [
       "\"0011111111110000000000000000000000000000000000000000000000000000\""
      ]
     },
     "execution_count": 3,
     "metadata": {},
     "output_type": "execute_result"
    }
   ],
   "source": [
    "# domyślnie Float64\n",
    "bitstring(1.0)"
   ]
  },
  {
   "cell_type": "code",
   "execution_count": 4,
   "metadata": {},
   "outputs": [
    {
     "data": {
      "text/plain": [
       "\"0011110000000000\""
      ]
     },
     "execution_count": 4,
     "metadata": {},
     "output_type": "execute_result"
    }
   ],
   "source": [
    "# Float16\n",
    "bitstring(Float16(1.0))"
   ]
  },
  {
   "cell_type": "code",
   "execution_count": 5,
   "metadata": {},
   "outputs": [
    {
     "data": {
      "text/plain": [
       "('0', \"01111111\", \"00000000000000000000000\")"
      ]
     },
     "execution_count": 5,
     "metadata": {},
     "output_type": "execute_result"
    }
   ],
   "source": [
    "# znak, cecha, mantysa\n",
    "#uwaga - w Julii tablice indeksujemy od 1\n",
    "decode(x::Float32) = (b=bitstring(x); (b[1], b[2:9], b[10:32]))\n",
    "decode(Float32(1.0))"
   ]
  },
  {
   "cell_type": "code",
   "execution_count": 6,
   "metadata": {},
   "outputs": [
    {
     "name": "stdout",
     "output_type": "stream",
     "text": [
      "1.0*2^0\n"
     ]
    }
   ],
   "source": [
    "println(significand(Float32(1.0)), \"*2^\", exponent(Float32(1.0)))"
   ]
  },
  {
   "cell_type": "code",
   "execution_count": 7,
   "metadata": {},
   "outputs": [
    {
     "data": {
      "text/plain": [
       "10-element Array{String,1}:\n",
       " \"00111111100000000000000000000000\"\n",
       " \"00111111100000000000000000000001\"\n",
       " \"00111111100000000000000000000010\"\n",
       " \"00111111100000000000000000000011\"\n",
       " \"00111111100000000000000000000100\"\n",
       " \"00111111100000000000000000000101\"\n",
       " \"00111111100000000000000000000110\"\n",
       " \"00111111100000000000000000000111\"\n",
       " \"00111111100000000000000000001000\"\n",
       " \"00111111100000000000000000001001\""
      ]
     },
     "execution_count": 7,
     "metadata": {},
     "output_type": "execute_result"
    }
   ],
   "source": [
    "# co ile liczby sa reprezentowane \n",
    "c=Float32[]\n",
    "a=Float32(1.0)\n",
    "r=1:10\n",
    "for i=r\n",
    "    push!(c, a)\n",
    "    a=nextfloat(a)\n",
    "end\n",
    "map(x-> bitstring(x),c)"
   ]
  },
  {
   "cell_type": "code",
   "execution_count": 8,
   "metadata": {},
   "outputs": [
    {
     "data": {
      "text/plain": [
       "1.1920929f-7"
      ]
     },
     "execution_count": 8,
     "metadata": {},
     "output_type": "execute_result"
    }
   ],
   "source": [
    "# Maszynowe epsilon mówi, jaki jest odstęp między kolejnymi liczbami zmiennoprzecinkowymi reprezentowanymi w komputerze\n",
    "eps(Float32(1))"
   ]
  },
  {
   "cell_type": "code",
   "execution_count": 9,
   "metadata": {},
   "outputs": [
    {
     "data": {
      "text/plain": [
       "1.1920929f-7"
      ]
     },
     "execution_count": 9,
     "metadata": {},
     "output_type": "execute_result"
    }
   ],
   "source": [
    "eps(Float32)\n"
   ]
  },
  {
   "cell_type": "code",
   "execution_count": 10,
   "metadata": {
    "nbgrader": {
     "grade": true,
     "grade_id": "cell-510e2987d5b4ebfc",
     "locked": false,
     "points": 2,
     "schema_version": 1,
     "solution": true
    }
   },
   "outputs": [
    {
     "name": "stdout",
     "output_type": "stream",
     "text": [
      "('0', \"01111110\", \"00011001100110011001101\")  false\n",
      "('0', \"01111101\", \"00011001100110011001101\")  false\n",
      "('0', \"01111100\", \"00011001100110011001101\")  false\n",
      "('0', \"01111011\", \"00011001100110011001101\")  false\n",
      "('0', \"01111010\", \"00011001100110011001101\")  false\n",
      "('0', \"01111001\", \"00011001100110011001101\")  false\n",
      "('0', \"01111000\", \"00011001100110011001101\")  false\n",
      "('0', \"01110111\", \"00011001100110011001101\")  false\n",
      "('0', \"01110110\", \"00011001100110011001101\")  false\n",
      "('0', \"01110101\", \"00011001100110011001101\")  false\n",
      "('0', \"01110100\", \"00011001100110011001101\")  false\n",
      "('0', \"01110011\", \"00011001100110011001101\")  false\n",
      "('0', \"01110010\", \"00011001100110011001101\")  false\n",
      "('0', \"01110001\", \"00011001100110011001101\")  false\n",
      "('0', \"01110000\", \"00011001100110011001101\")  false\n",
      "('0', \"01101111\", \"00011001100110011001101\")  false\n",
      "('0', \"01101110\", \"00011001100110011001101\")  false\n",
      "('0', \"01101101\", \"00011001100110011001101\")  false\n",
      "('0', \"01101100\", \"00011001100110011001101\")  false\n",
      "('0', \"01101011\", \"00011001100110011001101\")  false\n",
      "('0', \"01101010\", \"00011001100110011001101\")  false\n",
      "('0', \"01101001\", \"00011001100110011001101\")  false\n",
      "('0', \"01101000\", \"00011001100110011001101\")  false\n",
      "('0', \"01100111\", \"00011001100110011001101\")  false\n",
      "('0', \"01100110\", \"00011001100110011001101\")  false\n",
      "('0', \"01100101\", \"00011001100110011001101\")  false\n",
      "('0', \"01100100\", \"00011001100110011001101\")  false\n",
      "('0', \"01100011\", \"00011001100110011001101\")  false\n",
      "('0', \"01100010\", \"00011001100110011001101\")  false\n",
      "('0', \"01100001\", \"00011001100110011001101\")  false\n",
      "('0', \"01100000\", \"00011001100110011001101\")  false\n",
      "('0', \"01011111\", \"00011001100110011001101\")  false\n",
      "('0', \"01011110\", \"00011001100110011001101\")  false\n",
      "('0', \"01011101\", \"00011001100110011001101\")  false\n",
      "('0', \"01011100\", \"00011001100110011001101\")  false\n",
      "('0', \"01011011\", \"00011001100110011001101\")  false\n",
      "('0', \"01011010\", \"00011001100110011001101\")  false\n",
      "('0', \"01011001\", \"00011001100110011001101\")  false\n",
      "('0', \"01011000\", \"00011001100110011001101\")  false\n",
      "('0', \"01010111\", \"00011001100110011001101\")  false\n",
      "('0', \"01010110\", \"00011001100110011001101\")  false\n",
      "('0', \"01010101\", \"00011001100110011001101\")  false\n",
      "('0', \"01010100\", \"00011001100110011001101\")  false\n",
      "('0', \"01010011\", \"00011001100110011001101\")  false\n",
      "('0', \"01010010\", \"00011001100110011001101\")  false\n",
      "('0', \"01010001\", \"00011001100110011001101\")  false\n",
      "('0', \"01010000\", \"00011001100110011001101\")  false\n",
      "('0', \"01001111\", \"00011001100110011001101\")  false\n",
      "('0', \"01001110\", \"00011001100110011001101\")  false\n",
      "('0', \"01001101\", \"00011001100110011001101\")  false\n",
      "('0', \"01001100\", \"00011001100110011001101\")  false\n",
      "('0', \"01001011\", \"00011001100110011001101\")  false\n",
      "('0', \"01001010\", \"00011001100110011001101\")  false\n",
      "('0', \"01001001\", \"00011001100110011001101\")  false\n",
      "('0', \"01001000\", \"00011001100110011001101\")  false\n",
      "('0', \"01000111\", \"00011001100110011001101\")  false\n",
      "('0', \"01000110\", \"00011001100110011001101\")  false\n",
      "('0', \"01000101\", \"00011001100110011001101\")  false\n",
      "('0', \"01000100\", \"00011001100110011001101\")  false\n",
      "('0', \"01000011\", \"00011001100110011001101\")  false\n",
      "('0', \"01000010\", \"00011001100110011001101\")  false\n",
      "('0', \"01000001\", \"00011001100110011001101\")  false\n",
      "('0', \"01000000\", \"00011001100110011001101\")  false\n",
      "('0', \"00111111\", \"00011001100110011001101\")  false\n",
      "('0', \"00111110\", \"00011001100110011001101\")  false\n",
      "('0', \"00111101\", \"00011001100110011001101\")  false\n",
      "('0', \"00111100\", \"00011001100110011001101\")  false\n",
      "('0', \"00111011\", \"00011001100110011001101\")  false\n",
      "('0', \"00111010\", \"00011001100110011001101\")  false\n",
      "('0', \"00111001\", \"00011001100110011001101\")  false\n",
      "('0', \"00111000\", \"00011001100110011001101\")  false\n",
      "('0', \"00110111\", \"00011001100110011001101\")  false\n",
      "('0', \"00110110\", \"00011001100110011001101\")  false\n",
      "('0', \"00110101\", \"00011001100110011001101\")  false\n",
      "('0', \"00110100\", \"00011001100110011001101\")  false\n",
      "('0', \"00110011\", \"00011001100110011001101\")  false\n",
      "('0', \"00110010\", \"00011001100110011001101\")  false\n",
      "('0', \"00110001\", \"00011001100110011001101\")  false\n",
      "('0', \"00110000\", \"00011001100110011001101\")  false\n",
      "('0', \"00101111\", \"00011001100110011001101\")  false\n",
      "('0', \"00101110\", \"00011001100110011001101\")  false\n",
      "('0', \"00101101\", \"00011001100110011001101\")  false\n",
      "('0', \"00101100\", \"00011001100110011001101\")  false\n",
      "('0', \"00101011\", \"00011001100110011001101\")  false\n",
      "('0', \"00101010\", \"00011001100110011001101\")  false\n",
      "('0', \"00101001\", \"00011001100110011001101\")  false\n",
      "('0', \"00101000\", \"00011001100110011001101\")  false\n",
      "('0', \"00100111\", \"00011001100110011001101\")  false\n",
      "('0', \"00100110\", \"00011001100110011001101\")  false\n",
      "('0', \"00100101\", \"00011001100110011001101\")  false\n",
      "('0', \"00100100\", \"00011001100110011001101\")  false\n",
      "('0', \"00100011\", \"00011001100110011001101\")  false\n",
      "('0', \"00100010\", \"00011001100110011001101\")  false\n",
      "('0', \"00100001\", \"00011001100110011001101\")  false\n",
      "('0', \"00100000\", \"00011001100110011001101\")  false\n",
      "('0', \"00011111\", \"00011001100110011001101\")  false\n",
      "('0', \"00011110\", \"00011001100110011001101\")  false\n",
      "('0', \"00011101\", \"00011001100110011001101\")  false\n",
      "('0', \"00011100\", \"00011001100110011001101\")  false\n",
      "('0', \"00011011\", \"00011001100110011001101\")  false\n",
      "('0', \"00011010\", \"00011001100110011001101\")  false\n",
      "('0', \"00011001\", \"00011001100110011001101\")  false\n",
      "('0', \"00011000\", \"00011001100110011001101\")  false\n",
      "('0', \"00010111\", \"00011001100110011001101\")  false\n",
      "('0', \"00010110\", \"00011001100110011001101\")  false\n",
      "('0', \"00010101\", \"00011001100110011001101\")  false\n",
      "('0', \"00010100\", \"00011001100110011001101\")  false\n",
      "('0', \"00010011\", \"00011001100110011001101\")  false\n",
      "('0', \"00010010\", \"00011001100110011001101\")  false\n",
      "('0', \"00010001\", \"00011001100110011001101\")  false\n",
      "('0', \"00010000\", \"00011001100110011001101\")  false\n",
      "('0', \"00001111\", \"00011001100110011001101\")  false\n",
      "('0', \"00001110\", \"00011001100110011001101\")  false\n",
      "('0', \"00001101\", \"00011001100110011001101\")  false\n",
      "('0', \"00001100\", \"00011001100110011001101\")  false\n",
      "('0', \"00001011\", \"00011001100110011001101\")  false\n",
      "('0', \"00001010\", \"00011001100110011001101\")  false\n",
      "('0', \"00001001\", \"00011001100110011001101\")  false\n",
      "('0', \"00001000\", \"00011001100110011001101\")  false\n",
      "('0', \"00000111\", \"00011001100110011001101\")  false\n",
      "('0', \"00000110\", \"00011001100110011001101\")  false\n",
      "('0', \"00000101\", \"00011001100110011001101\")  false\n",
      "('0', \"00000100\", \"00011001100110011001101\")  false\n",
      "('0', \"00000011\", \"00011001100110011001101\")  false\n",
      "('0', \"00000010\", \"00011001100110011001101\")  false\n",
      "('0', \"00000001\", \"00011001100110011001101\")  false\n",
      "('0', \"00000000\", \"10001100110011001100110\")  true\n",
      "('0', \"00000000\", \"01000110011001100110011\")  true\n",
      "('0', \"00000000\", \"00100011001100110011010\")  true\n",
      "('0', \"00000000\", \"00010001100110011001101\")  true\n",
      "('0', \"00000000\", \"00001000110011001100110\")  true\n",
      "('0', \"00000000\", \"00000100011001100110011\")  true\n",
      "('0', \"00000000\", \"00000010001100110011010\")  true\n",
      "('0', \"00000000\", \"00000001000110011001101\")  true\n",
      "('0', \"00000000\", \"00000000100011001100110\")  true\n",
      "('0', \"00000000\", \"00000000010001100110011\")  true\n",
      "('0', \"00000000\", \"00000000001000110011010\")  true\n",
      "('0', \"00000000\", \"00000000000100011001101\")  true\n",
      "('0', \"00000000\", \"00000000000010001100110\")  true\n",
      "('0', \"00000000\", \"00000000000001000110011\")  true\n",
      "('0', \"00000000\", \"00000000000000100011010\")  true\n",
      "('0', \"00000000\", \"00000000000000010001101\")  true\n",
      "('0', \"00000000\", \"00000000000000001000110\")  true\n",
      "('0', \"00000000\", \"00000000000000000100011\")  true\n",
      "('0', \"00000000\", \"00000000000000000010010\")  true\n",
      "('0', \"00000000\", \"00000000000000000001001\")  true\n",
      "('0', \"00000000\", \"00000000000000000000100\")  true\n",
      "('0', \"00000000\", \"00000000000000000000010\")  true\n",
      "('0', \"00000000\", \"00000000000000000000001\")  true\n"
     ]
    }
   ],
   "source": [
    "# Badanie postaci zdenormalizowanej. Co się dzieje, jak liczby są coraz mniejsze?\n",
    "a=Float32(1.1)\n",
    "for i=1:149\n",
    "    a=a/Float32(2.0)\n",
    "    println(decode(a), \"  \", issubnormal(a))\n",
    "end"
   ]
  },
  {
   "cell_type": "code",
   "execution_count": 11,
   "metadata": {},
   "outputs": [],
   "source": [
    "# Pkg.add(\"Plots\")\n",
    "# http://docs.juliaplots.org/latest/tutorial/\n",
    "using Plots"
   ]
  },
  {
   "cell_type": "code",
   "execution_count": 12,
   "metadata": {},
   "outputs": [
    {
     "data": {
      "image/svg+xml": [
       "<?xml version=\"1.0\" encoding=\"utf-8\"?>\n",
       "<svg xmlns=\"http://www.w3.org/2000/svg\" xmlns:xlink=\"http://www.w3.org/1999/xlink\" width=\"600\" height=\"400\" viewBox=\"0 0 2400 1600\">\n",
       "<defs>\n",
       "  <clipPath id=\"clip2900\">\n",
       "    <rect x=\"0\" y=\"0\" width=\"2400\" height=\"1600\"/>\n",
       "  </clipPath>\n",
       "</defs>\n",
       "<path clip-path=\"url(#clip2900)\" d=\"\n",
       "M0 1600 L2400 1600 L2400 0 L0 0  Z\n",
       "  \" fill=\"#ffffff\" fill-rule=\"evenodd\" fill-opacity=\"1\"/>\n",
       "<defs>\n",
       "  <clipPath id=\"clip2901\">\n",
       "    <rect x=\"480\" y=\"0\" width=\"1681\" height=\"1600\"/>\n",
       "  </clipPath>\n",
       "</defs>\n",
       "<path clip-path=\"url(#clip2900)\" d=\"\n",
       "M113.754 1487.47 L2352.76 1487.47 L2352.76 47.2441 L113.754 47.2441  Z\n",
       "  \" fill=\"#ffffff\" fill-rule=\"evenodd\" fill-opacity=\"1\"/>\n",
       "<defs>\n",
       "  <clipPath id=\"clip2902\">\n",
       "    <rect x=\"113\" y=\"47\" width=\"2240\" height=\"1441\"/>\n",
       "  </clipPath>\n",
       "</defs>\n",
       "<polyline clip-path=\"url(#clip2902)\" style=\"stroke:#000000; stroke-width:2; stroke-opacity:0.1; fill:none\" points=\"\n",
       "  177.122,1487.47 177.122,47.2441 \n",
       "  \"/>\n",
       "<polyline clip-path=\"url(#clip2902)\" style=\"stroke:#000000; stroke-width:2; stroke-opacity:0.1; fill:none\" points=\"\n",
       "  705.189,1487.47 705.189,47.2441 \n",
       "  \"/>\n",
       "<polyline clip-path=\"url(#clip2902)\" style=\"stroke:#000000; stroke-width:2; stroke-opacity:0.1; fill:none\" points=\"\n",
       "  1233.26,1487.47 1233.26,47.2441 \n",
       "  \"/>\n",
       "<polyline clip-path=\"url(#clip2902)\" style=\"stroke:#000000; stroke-width:2; stroke-opacity:0.1; fill:none\" points=\"\n",
       "  1761.32,1487.47 1761.32,47.2441 \n",
       "  \"/>\n",
       "<polyline clip-path=\"url(#clip2902)\" style=\"stroke:#000000; stroke-width:2; stroke-opacity:0.1; fill:none\" points=\"\n",
       "  2289.39,1487.47 2289.39,47.2441 \n",
       "  \"/>\n",
       "<polyline clip-path=\"url(#clip2902)\" style=\"stroke:#000000; stroke-width:2; stroke-opacity:0.1; fill:none\" points=\"\n",
       "  113.754,1446.71 2352.76,1446.71 \n",
       "  \"/>\n",
       "<polyline clip-path=\"url(#clip2902)\" style=\"stroke:#000000; stroke-width:2; stroke-opacity:0.1; fill:none\" points=\"\n",
       "  113.754,993.811 2352.76,993.811 \n",
       "  \"/>\n",
       "<polyline clip-path=\"url(#clip2902)\" style=\"stroke:#000000; stroke-width:2; stroke-opacity:0.1; fill:none\" points=\"\n",
       "  113.754,540.908 2352.76,540.908 \n",
       "  \"/>\n",
       "<polyline clip-path=\"url(#clip2902)\" style=\"stroke:#000000; stroke-width:2; stroke-opacity:0.1; fill:none\" points=\"\n",
       "  113.754,88.0053 2352.76,88.0053 \n",
       "  \"/>\n",
       "<polyline clip-path=\"url(#clip2900)\" style=\"stroke:#000000; stroke-width:4; stroke-opacity:1; fill:none\" points=\"\n",
       "  113.754,1487.47 2352.76,1487.47 \n",
       "  \"/>\n",
       "<polyline clip-path=\"url(#clip2900)\" style=\"stroke:#000000; stroke-width:4; stroke-opacity:1; fill:none\" points=\"\n",
       "  113.754,1487.47 113.754,47.2441 \n",
       "  \"/>\n",
       "<polyline clip-path=\"url(#clip2900)\" style=\"stroke:#000000; stroke-width:4; stroke-opacity:1; fill:none\" points=\"\n",
       "  177.122,1487.47 177.122,1470.19 \n",
       "  \"/>\n",
       "<polyline clip-path=\"url(#clip2900)\" style=\"stroke:#000000; stroke-width:4; stroke-opacity:1; fill:none\" points=\"\n",
       "  705.189,1487.47 705.189,1470.19 \n",
       "  \"/>\n",
       "<polyline clip-path=\"url(#clip2900)\" style=\"stroke:#000000; stroke-width:4; stroke-opacity:1; fill:none\" points=\"\n",
       "  1233.26,1487.47 1233.26,1470.19 \n",
       "  \"/>\n",
       "<polyline clip-path=\"url(#clip2900)\" style=\"stroke:#000000; stroke-width:4; stroke-opacity:1; fill:none\" points=\"\n",
       "  1761.32,1487.47 1761.32,1470.19 \n",
       "  \"/>\n",
       "<polyline clip-path=\"url(#clip2900)\" style=\"stroke:#000000; stroke-width:4; stroke-opacity:1; fill:none\" points=\"\n",
       "  2289.39,1487.47 2289.39,1470.19 \n",
       "  \"/>\n",
       "<polyline clip-path=\"url(#clip2900)\" style=\"stroke:#000000; stroke-width:4; stroke-opacity:1; fill:none\" points=\"\n",
       "  113.754,1446.71 140.622,1446.71 \n",
       "  \"/>\n",
       "<polyline clip-path=\"url(#clip2900)\" style=\"stroke:#000000; stroke-width:4; stroke-opacity:1; fill:none\" points=\"\n",
       "  113.754,993.811 140.622,993.811 \n",
       "  \"/>\n",
       "<polyline clip-path=\"url(#clip2900)\" style=\"stroke:#000000; stroke-width:4; stroke-opacity:1; fill:none\" points=\"\n",
       "  113.754,540.908 140.622,540.908 \n",
       "  \"/>\n",
       "<polyline clip-path=\"url(#clip2900)\" style=\"stroke:#000000; stroke-width:4; stroke-opacity:1; fill:none\" points=\"\n",
       "  113.754,88.0053 140.622,88.0053 \n",
       "  \"/>\n",
       "<g clip-path=\"url(#clip2900)\">\n",
       "<text style=\"fill:#000000; fill-opacity:1; font-family:Arial,Helvetica Neue,Helvetica,sans-serif; font-size:48px; text-anchor:middle;\" transform=\"rotate(0, 177.122, 1541.47)\" x=\"177.122\" y=\"1541.47\">1</text>\n",
       "</g>\n",
       "<g clip-path=\"url(#clip2900)\">\n",
       "<text style=\"fill:#000000; fill-opacity:1; font-family:Arial,Helvetica Neue,Helvetica,sans-serif; font-size:48px; text-anchor:middle;\" transform=\"rotate(0, 705.189, 1541.47)\" x=\"705.189\" y=\"1541.47\">2</text>\n",
       "</g>\n",
       "<g clip-path=\"url(#clip2900)\">\n",
       "<text style=\"fill:#000000; fill-opacity:1; font-family:Arial,Helvetica Neue,Helvetica,sans-serif; font-size:48px; text-anchor:middle;\" transform=\"rotate(0, 1233.26, 1541.47)\" x=\"1233.26\" y=\"1541.47\">3</text>\n",
       "</g>\n",
       "<g clip-path=\"url(#clip2900)\">\n",
       "<text style=\"fill:#000000; fill-opacity:1; font-family:Arial,Helvetica Neue,Helvetica,sans-serif; font-size:48px; text-anchor:middle;\" transform=\"rotate(0, 1761.32, 1541.47)\" x=\"1761.32\" y=\"1541.47\">4</text>\n",
       "</g>\n",
       "<g clip-path=\"url(#clip2900)\">\n",
       "<text style=\"fill:#000000; fill-opacity:1; font-family:Arial,Helvetica Neue,Helvetica,sans-serif; font-size:48px; text-anchor:middle;\" transform=\"rotate(0, 2289.39, 1541.47)\" x=\"2289.39\" y=\"1541.47\">5</text>\n",
       "</g>\n",
       "<g clip-path=\"url(#clip2900)\">\n",
       "<text style=\"fill:#000000; fill-opacity:1; font-family:Arial,Helvetica Neue,Helvetica,sans-serif; font-size:48px; text-anchor:end;\" transform=\"rotate(0, 89.7545, 1464.21)\" x=\"89.7545\" y=\"1464.21\">2</text>\n",
       "</g>\n",
       "<g clip-path=\"url(#clip2900)\">\n",
       "<text style=\"fill:#000000; fill-opacity:1; font-family:Arial,Helvetica Neue,Helvetica,sans-serif; font-size:48px; text-anchor:end;\" transform=\"rotate(0, 89.7545, 1011.31)\" x=\"89.7545\" y=\"1011.31\">3</text>\n",
       "</g>\n",
       "<g clip-path=\"url(#clip2900)\">\n",
       "<text style=\"fill:#000000; fill-opacity:1; font-family:Arial,Helvetica Neue,Helvetica,sans-serif; font-size:48px; text-anchor:end;\" transform=\"rotate(0, 89.7545, 558.408)\" x=\"89.7545\" y=\"558.408\">4</text>\n",
       "</g>\n",
       "<g clip-path=\"url(#clip2900)\">\n",
       "<text style=\"fill:#000000; fill-opacity:1; font-family:Arial,Helvetica Neue,Helvetica,sans-serif; font-size:48px; text-anchor:end;\" transform=\"rotate(0, 89.7545, 105.505)\" x=\"89.7545\" y=\"105.505\">5</text>\n",
       "</g>\n",
       "<circle clip-path=\"url(#clip2902)\" cx=\"177.122\" cy=\"1446.71\" r=\"14\" fill=\"#009af9\" fill-rule=\"evenodd\" fill-opacity=\"1\" stroke=\"#000000\" stroke-opacity=\"1\" stroke-width=\"3.2\"/>\n",
       "<circle clip-path=\"url(#clip2902)\" cx=\"705.189\" cy=\"1446.71\" r=\"14\" fill=\"#009af9\" fill-rule=\"evenodd\" fill-opacity=\"1\" stroke=\"#000000\" stroke-opacity=\"1\" stroke-width=\"3.2\"/>\n",
       "<circle clip-path=\"url(#clip2902)\" cx=\"1233.26\" cy=\"993.811\" r=\"14\" fill=\"#009af9\" fill-rule=\"evenodd\" fill-opacity=\"1\" stroke=\"#000000\" stroke-opacity=\"1\" stroke-width=\"3.2\"/>\n",
       "<circle clip-path=\"url(#clip2902)\" cx=\"1761.32\" cy=\"993.811\" r=\"14\" fill=\"#009af9\" fill-rule=\"evenodd\" fill-opacity=\"1\" stroke=\"#000000\" stroke-opacity=\"1\" stroke-width=\"3.2\"/>\n",
       "<circle clip-path=\"url(#clip2902)\" cx=\"2289.39\" cy=\"88.0053\" r=\"14\" fill=\"#009af9\" fill-rule=\"evenodd\" fill-opacity=\"1\" stroke=\"#000000\" stroke-opacity=\"1\" stroke-width=\"3.2\"/>\n",
       "<path clip-path=\"url(#clip2900)\" d=\"\n",
       "M1989.93 251.724 L2280.76 251.724 L2280.76 130.764 L1989.93 130.764  Z\n",
       "  \" fill=\"#ffffff\" fill-rule=\"evenodd\" fill-opacity=\"1\"/>\n",
       "<polyline clip-path=\"url(#clip2900)\" style=\"stroke:#000000; stroke-width:4; stroke-opacity:1; fill:none\" points=\"\n",
       "  1989.93,251.724 2280.76,251.724 2280.76,130.764 1989.93,130.764 1989.93,251.724 \n",
       "  \"/>\n",
       "<circle clip-path=\"url(#clip2900)\" cx=\"2097.93\" cy=\"191.244\" r=\"21\" fill=\"#009af9\" fill-rule=\"evenodd\" fill-opacity=\"1\" stroke=\"#000000\" stroke-opacity=\"1\" stroke-width=\"3.2\"/>\n",
       "<g clip-path=\"url(#clip2900)\">\n",
       "<text style=\"fill:#000000; fill-opacity:1; font-family:Arial,Helvetica Neue,Helvetica,sans-serif; font-size:48px; text-anchor:start;\" transform=\"rotate(0, 2181.93, 208.744)\" x=\"2181.93\" y=\"208.744\">y1</text>\n",
       "</g>\n",
       "</svg>\n"
      ]
     },
     "execution_count": 12,
     "metadata": {},
     "output_type": "execute_result"
    }
   ],
   "source": [
    "scatter(1:1:5, [2,2,3,3,5])"
   ]
  },
  {
   "cell_type": "markdown",
   "metadata": {},
   "source": [
    "<b> Zadanie 1 </b>  Porównać w języku Julia reprezentację bitową liczby 1/3 dla Float32, Float64 oraz liczby, \n",
    "która jest inicjalizowana jako Float32, a potem rzutowana na Float64."
   ]
  },
  {
   "cell_type": "markdown",
   "metadata": {},
   "source": [
    "<b>Zadanie 2</b> Zbadać, jak zmienia się odległość między kolejnymi liczbami zminnoprzecinkowymi \n",
    "reprezentowanymi w komputerze za pomocą języka Julia. \n",
    "Narysować wykres używając Plots zależności odległości od wartości liczby dla zakresu  od 1.0 do 1000.0 z krokiem 1.0."
   ]
  },
  {
   "cell_type": "markdown",
   "metadata": {},
   "source": [
    "<b>Zadanie 3</b> Jedną z bibliotek numerycznych, jaką będziemy używać na zajęciach jest <a href=\"http://home.agh.edu.pl/~kzajac/dydakt/mownit/lab1/gsl.html\">GSL</a> (język C). Korzystając ze <a href=\"https://www.gnu.org/software/gsl/doc/html/ieee754.html\"> wsparcia dla wyświetlania reprezentacji liczb zmiennoprzecinkowych</a> zobaczyć jak zmienia się cecha i mantysa dla coraz mniejszych liczb. Zaobserwować, kiedy matysa przestaje być znormalizowana i dlaczego?"
   ]
  },
  {
   "cell_type": "markdown",
   "metadata": {},
   "source": [
    "<b>Zadanie 4</b> Wymyślić własny przykład algorytmu niestablinego numerycznie. \n",
    "1. Zademostrować wersję niestabilną, pokazać, że działa źle.\n",
    "2. Wyjaśnić, dlaczego działa źle.\n",
    "3. Zademonstować wersję stabilną.\n",
    "4. Język dowolny."
   ]
  }
 ],
 "metadata": {
  "kernelspec": {
   "display_name": "Julia 1.2.0",
   "language": "julia",
   "name": "julia-1.2"
  },
  "language_info": {
   "file_extension": ".jl",
   "mimetype": "application/julia",
   "name": "julia",
   "version": "1.2.0"
  }
 },
 "nbformat": 4,
 "nbformat_minor": 2
}
